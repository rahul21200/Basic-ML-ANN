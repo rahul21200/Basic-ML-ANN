{
 "cells": [
  {
   "cell_type": "markdown",
   "id": "f381745e",
   "metadata": {},
   "source": [
    "# Importing Necessary Libraries"
   ]
  },
  {
   "cell_type": "code",
   "execution_count": 1,
   "id": "ce595b14",
   "metadata": {},
   "outputs": [],
   "source": [
    "import numpy as np\n",
    "import pandas as pd\n",
    "%matplotlib inline\n",
    "import matplotlib as mpl\n",
    "import matplotlib.pyplot as plt"
   ]
  },
  {
   "cell_type": "code",
   "execution_count": 2,
   "id": "ca4f49f6",
   "metadata": {},
   "outputs": [],
   "source": [
    "import tensorflow as tf\n",
    "from tensorflow import keras"
   ]
  },
  {
   "cell_type": "code",
   "execution_count": 3,
   "id": "a2ff79e8",
   "metadata": {},
   "outputs": [],
   "source": [
    "from sklearn.datasets import fetch_california_housing\n",
    "housing = fetch_california_housing()"
   ]
  },
  {
   "cell_type": "markdown",
   "id": "34a05b43",
   "metadata": {},
   "source": [
    "# About the data and Test-train split"
   ]
  },
  {
   "cell_type": "code",
   "execution_count": 4,
   "id": "0917659b",
   "metadata": {},
   "outputs": [
    {
     "name": "stdout",
     "output_type": "stream",
     "text": [
      "['MedInc', 'HouseAge', 'AveRooms', 'AveBedrms', 'Population', 'AveOccup', 'Latitude', 'Longitude']\n"
     ]
    }
   ],
   "source": [
    "print(housing.feature_names)"
   ]
  },
  {
   "cell_type": "code",
   "execution_count": 5,
   "id": "9d8b886d",
   "metadata": {},
   "outputs": [],
   "source": [
    "from sklearn.model_selection import train_test_split\n",
    "X_train_full,X_test ,Y_train_full ,Y_test = train_test_split(housing.data, housing.target, random_state=42)\n",
    "X_train, X_valid ,Y_train ,Y_valid = train_test_split(X_train_full, Y_train_full, random_state=42)"
   ]
  },
  {
   "cell_type": "code",
   "execution_count": 6,
   "id": "8cd436af",
   "metadata": {},
   "outputs": [],
   "source": [
    "from sklearn.preprocessing import StandardScaler\n",
    "scalar = StandardScaler()\n",
    "X_train = scalar.fit_transform(X_train)\n",
    "X_valid = scalar.transform(X_valid)\n",
    "X_test = scalar.transform(X_test)"
   ]
  },
  {
   "cell_type": "code",
   "execution_count": 7,
   "id": "63c2bbd9",
   "metadata": {},
   "outputs": [],
   "source": [
    "np.random.seed(42)\n",
    "tf.random.set_seed(42)"
   ]
  },
  {
   "cell_type": "code",
   "execution_count": 8,
   "id": "e26240c5",
   "metadata": {},
   "outputs": [
    {
     "data": {
      "text/plain": [
       "(11610, 8)"
      ]
     },
     "execution_count": 8,
     "metadata": {},
     "output_type": "execute_result"
    }
   ],
   "source": [
    "X_train.shape"
   ]
  },
  {
   "cell_type": "code",
   "execution_count": 9,
   "id": "27e0b7e1",
   "metadata": {},
   "outputs": [],
   "source": [
    "model = keras.models.Sequential([\n",
    "    keras.layers.Dense(30,activation = \"relu\",input_shape= X_train.shape[1:]),\n",
    "    keras.layers.Dense(30,activation = \"relu\"),\n",
    "    keras.layers.Dense(1)\n",
    "])"
   ]
  },
  {
   "cell_type": "code",
   "execution_count": 10,
   "id": "4d55ef8a",
   "metadata": {
    "scrolled": false
   },
   "outputs": [
    {
     "name": "stdout",
     "output_type": "stream",
     "text": [
      "Model: \"sequential\"\n",
      "_________________________________________________________________\n",
      "Layer (type)                 Output Shape              Param #   \n",
      "=================================================================\n",
      "dense (Dense)                (None, 30)                270       \n",
      "_________________________________________________________________\n",
      "dense_1 (Dense)              (None, 30)                930       \n",
      "_________________________________________________________________\n",
      "dense_2 (Dense)              (None, 1)                 31        \n",
      "=================================================================\n",
      "Total params: 1,231\n",
      "Trainable params: 1,231\n",
      "Non-trainable params: 0\n",
      "_________________________________________________________________\n"
     ]
    }
   ],
   "source": [
    "model.summary()"
   ]
  },
  {
   "cell_type": "code",
   "execution_count": 11,
   "id": "e659b89e",
   "metadata": {},
   "outputs": [],
   "source": [
    "model.compile(loss = \"mean_squared_error\", optimizer = keras.optimizers.SGD(lr = 1e-3), metrics = ['mae'])"
   ]
  },
  {
   "cell_type": "code",
   "execution_count": 16,
   "id": "67d8b05f",
   "metadata": {
    "scrolled": true
   },
   "outputs": [
    {
     "name": "stdout",
     "output_type": "stream",
     "text": [
      "Epoch 1/20\n",
      "363/363 [==============================] - 1s 2ms/step - loss: 0.3949 - mae: 0.4489 - val_loss: 0.3695 - val_mae: 0.4322\n",
      "Epoch 2/20\n",
      "363/363 [==============================] - 1s 3ms/step - loss: 0.3922 - mae: 0.4469 - val_loss: 0.3698 - val_mae: 0.4350\n",
      "Epoch 3/20\n",
      "363/363 [==============================] - 1s 3ms/step - loss: 0.3898 - mae: 0.4461 - val_loss: 0.3647 - val_mae: 0.4285\n",
      "Epoch 4/20\n",
      "363/363 [==============================] - 1s 2ms/step - loss: 0.3873 - mae: 0.4439 - val_loss: 0.3632 - val_mae: 0.4309\n",
      "Epoch 5/20\n",
      "363/363 [==============================] - 1s 2ms/step - loss: 0.3851 - mae: 0.4426 - val_loss: 0.3607 - val_mae: 0.4276\n",
      "Epoch 6/20\n",
      "363/363 [==============================] - 1s 3ms/step - loss: 0.3829 - mae: 0.4415 - val_loss: 0.3586 - val_mae: 0.4247\n",
      "Epoch 7/20\n",
      "363/363 [==============================] - 1s 3ms/step - loss: 0.3808 - mae: 0.4398 - val_loss: 0.3563 - val_mae: 0.4240\n",
      "Epoch 8/20\n",
      "363/363 [==============================] - 1s 2ms/step - loss: 0.3788 - mae: 0.4385 - val_loss: 0.3559 - val_mae: 0.4228\n",
      "Epoch 9/20\n",
      "363/363 [==============================] - 1s 2ms/step - loss: 0.3768 - mae: 0.4375 - val_loss: 0.3549 - val_mae: 0.4208\n",
      "Epoch 10/20\n",
      "363/363 [==============================] - 1s 3ms/step - loss: 0.3749 - mae: 0.4359 - val_loss: 0.3526 - val_mae: 0.4193\n",
      "Epoch 11/20\n",
      "363/363 [==============================] - 1s 2ms/step - loss: 0.3732 - mae: 0.4347 - val_loss: 0.3495 - val_mae: 0.4198\n",
      "Epoch 12/20\n",
      "363/363 [==============================] - 1s 2ms/step - loss: 0.3715 - mae: 0.4336 - val_loss: 0.3549 - val_mae: 0.4194\n",
      "Epoch 13/20\n",
      "363/363 [==============================] - 1s 2ms/step - loss: 0.3700 - mae: 0.4327 - val_loss: 0.3515 - val_mae: 0.4206\n",
      "Epoch 14/20\n",
      "363/363 [==============================] - 1s 2ms/step - loss: 0.3684 - mae: 0.4315 - val_loss: 0.3468 - val_mae: 0.4187\n",
      "Epoch 15/20\n",
      "363/363 [==============================] - 1s 2ms/step - loss: 0.3671 - mae: 0.4307 - val_loss: 0.3674 - val_mae: 0.4211\n",
      "Epoch 16/20\n",
      "363/363 [==============================] - 1s 3ms/step - loss: 0.3659 - mae: 0.4305 - val_loss: 0.3437 - val_mae: 0.4162\n",
      "Epoch 17/20\n",
      "363/363 [==============================] - 1s 3ms/step - loss: 0.3648 - mae: 0.4294 - val_loss: 0.3583 - val_mae: 0.4170\n",
      "Epoch 18/20\n",
      "363/363 [==============================] - 1s 4ms/step - loss: 0.3635 - mae: 0.4284 - val_loss: 0.3507 - val_mae: 0.4146\n",
      "Epoch 19/20\n",
      "363/363 [==============================] - 1s 3ms/step - loss: 0.3622 - mae: 0.4272 - val_loss: 0.3451 - val_mae: 0.4143\n",
      "Epoch 20/20\n",
      "363/363 [==============================] - 1s 2ms/step - loss: 0.3613 - mae: 0.4269 - val_loss: 0.3852 - val_mae: 0.4192\n"
     ]
    }
   ],
   "source": [
    "model_history = model.fit(X_train, Y_train, epochs = 20, validation_data = (X_valid, Y_valid))"
   ]
  },
  {
   "cell_type": "code",
   "execution_count": 17,
   "id": "db296c17",
   "metadata": {
    "scrolled": true
   },
   "outputs": [
    {
     "name": "stdout",
     "output_type": "stream",
     "text": [
      "  1/162 [..............................] - ETA: 0s - loss: 0.3311 - mae: 0.4683WARNING:tensorflow:Callbacks method `on_test_batch_begin` is slow compared to the batch time (batch time: 0.0000s vs `on_test_batch_begin` time: 0.0081s). Check your callbacks.\n",
      "162/162 [==============================] - 0s 2ms/step - loss: 0.3596 - mae: 0.4269\n"
     ]
    }
   ],
   "source": [
    "mae_test = model.evaluate(X_test, Y_test)"
   ]
  },
  {
   "cell_type": "code",
   "execution_count": 18,
   "id": "63dd18b8",
   "metadata": {
    "scrolled": true
   },
   "outputs": [
    {
     "data": {
      "text/plain": [
       "{'loss': [0.3948921859264374,\n",
       "  0.3922426700592041,\n",
       "  0.38980168104171753,\n",
       "  0.3872992992401123,\n",
       "  0.3851175904273987,\n",
       "  0.3828714191913605,\n",
       "  0.3807542324066162,\n",
       "  0.3787873089313507,\n",
       "  0.37684252858161926,\n",
       "  0.37485161423683167,\n",
       "  0.3732492923736572,\n",
       "  0.37154120206832886,\n",
       "  0.3699617087841034,\n",
       "  0.36844807863235474,\n",
       "  0.3671077489852905,\n",
       "  0.36586400866508484,\n",
       "  0.364767462015152,\n",
       "  0.36347660422325134,\n",
       "  0.36217090487480164,\n",
       "  0.3612859845161438],\n",
       " 'mae': [0.448872447013855,\n",
       "  0.4469223618507385,\n",
       "  0.4460664689540863,\n",
       "  0.4439034163951874,\n",
       "  0.4425695538520813,\n",
       "  0.4414599537849426,\n",
       "  0.4398252069950104,\n",
       "  0.43846991658210754,\n",
       "  0.43753182888031006,\n",
       "  0.4359447658061981,\n",
       "  0.43472516536712646,\n",
       "  0.43356847763061523,\n",
       "  0.43265366554260254,\n",
       "  0.43151575326919556,\n",
       "  0.43066665530204773,\n",
       "  0.43046438694000244,\n",
       "  0.42939263582229614,\n",
       "  0.42837896943092346,\n",
       "  0.42722663283348083,\n",
       "  0.42688435316085815],\n",
       " 'val_loss': [0.3695237636566162,\n",
       "  0.3698018789291382,\n",
       "  0.3646637797355652,\n",
       "  0.3632129728794098,\n",
       "  0.3606773912906647,\n",
       "  0.35861778259277344,\n",
       "  0.35634544491767883,\n",
       "  0.3559224009513855,\n",
       "  0.3549463450908661,\n",
       "  0.3526076674461365,\n",
       "  0.34950217604637146,\n",
       "  0.35491931438446045,\n",
       "  0.35146665573120117,\n",
       "  0.3468173146247864,\n",
       "  0.36744609475135803,\n",
       "  0.3437066376209259,\n",
       "  0.3583345115184784,\n",
       "  0.350708544254303,\n",
       "  0.34509706497192383,\n",
       "  0.3852340579032898],\n",
       " 'val_mae': [0.43215852975845337,\n",
       "  0.4350142180919647,\n",
       "  0.428478479385376,\n",
       "  0.430883526802063,\n",
       "  0.4276125431060791,\n",
       "  0.42469462752342224,\n",
       "  0.42398738861083984,\n",
       "  0.42283955216407776,\n",
       "  0.4207947552204132,\n",
       "  0.41933777928352356,\n",
       "  0.41980209946632385,\n",
       "  0.4194321930408478,\n",
       "  0.4205680191516876,\n",
       "  0.41870424151420593,\n",
       "  0.4210852086544037,\n",
       "  0.4162393808364868,\n",
       "  0.4169524013996124,\n",
       "  0.41462695598602295,\n",
       "  0.41430360078811646,\n",
       "  0.41919127106666565]}"
      ]
     },
     "execution_count": 18,
     "metadata": {},
     "output_type": "execute_result"
    }
   ],
   "source": [
    "model_history.history"
   ]
  },
  {
   "cell_type": "code",
   "execution_count": 19,
   "id": "aeea831e",
   "metadata": {},
   "outputs": [
    {
     "data": {
      "image/png": "[encoded data removed]",
      "text/plain": [
       "<Figure size 576x360 with 1 Axes>"
      ]
     },
     "metadata": {
      "needs_background": "light"
     },
     "output_type": "display_data"
    }
   ],
   "source": [
    "pd.DataFrame(model_history.history).plot(figsize = (8,5))\n",
    "plt.grid(True)\n",
    "plt.gca().set_ylim(0,1)\n",
    "plt.show()"
   ]
  },
  {
   "cell_type": "code",
   "execution_count": 20,
   "id": "aa3f9bbd",
   "metadata": {},
   "outputs": [],
   "source": [
    "X_new = X_test[:3]"
   ]
  },
  {
   "cell_type": "code",
   "execution_count": 21,
   "id": "4f2cc0b2",
   "metadata": {},
   "outputs": [
    {
     "name": "stdout",
     "output_type": "stream",
     "text": [
      "[[0.6071852]\n",
      " [1.8601747]\n",
      " [3.7925048]]\n",
      "[0.477   0.458   5.00001]\n"
     ]
    }
   ],
   "source": [
    "Y_pred = model.predict(X_new)\n",
    "print(Y_pred)\n",
    "print(Y_test[:3])"
   ]
  },
  {
   "cell_type": "markdown",
   "id": "9e48ab10",
   "metadata": {},
   "source": [
    "# Using Functional APIs for complex architecture"
   ]
  },
  {
   "cell_type": "code",
   "execution_count": 22,
   "id": "f833fdfa",
   "metadata": {},
   "outputs": [],
   "source": [
    "del model"
   ]
  },
  {
   "cell_type": "code",
   "execution_count": 23,
   "id": "b7ca5a5b",
   "metadata": {},
   "outputs": [],
   "source": [
    "keras.backend.clear_session()"
   ]
  },
  {
   "cell_type": "code",
   "execution_count": 23,
   "id": "6da3a9cb",
   "metadata": {},
   "outputs": [],
   "source": [
    "#    |\n",
    "#  output\n",
    "#    |\n",
    "#  Concat<------\\\n",
    "#    |           \\\n",
    "#  Hidden 2       \\\n",
    "#    |     \\       | wide\n",
    "#  Hidden 1/Deep   /\n",
    "#    |            /\n",
    "#  Input---------/\n",
    "    "
   ]
  },
  {
   "cell_type": "code",
   "execution_count": 24,
   "id": "1342f5af",
   "metadata": {},
   "outputs": [],
   "source": [
    "input_ = keras.layers.Input(shape = X_train.shape[1:])\n",
    "hidden1 = keras.layers.Dense(30, activation = \"relu\")(input_)\n",
    "hidden2 = keras.layers.Dense(30, activation = \"relu\")(hidden1)\n",
    "concat = keras.layers.concatenate([input_, hidden2])\n",
    "output = keras.layers.Dense(1)(concat)\n",
    "model = keras.models.Model(inputs = [input_], outputs = [output])"
   ]
  },
  {
   "cell_type": "code",
   "execution_count": 25,
   "id": "7883c751",
   "metadata": {},
   "outputs": [
    {
     "name": "stdout",
     "output_type": "stream",
     "text": [
      "Model: \"functional_1\"\n",
      "__________________________________________________________________________________________________\n",
      "Layer (type)                    Output Shape         Param #     Connected to                     \n",
      "==================================================================================================\n",
      "input_1 (InputLayer)            [(None, 8)]          0                                            \n",
      "__________________________________________________________________________________________________\n",
      "dense (Dense)                   (None, 30)           270         input_1[0][0]                    \n",
      "__________________________________________________________________________________________________\n",
      "dense_1 (Dense)                 (None, 30)           930         dense[0][0]                      \n",
      "__________________________________________________________________________________________________\n",
      "concatenate (Concatenate)       (None, 38)           0           input_1[0][0]                    \n",
      "                                                                 dense_1[0][0]                    \n",
      "__________________________________________________________________________________________________\n",
      "dense_2 (Dense)                 (None, 1)            39          concatenate[0][0]                \n",
      "==================================================================================================\n",
      "Total params: 1,239\n",
      "Trainable params: 1,239\n",
      "Non-trainable params: 0\n",
      "__________________________________________________________________________________________________\n"
     ]
    }
   ],
   "source": [
    "model.summary()"
   ]
  },
  {
   "cell_type": "code",
   "execution_count": 26,
   "id": "1200d9cf",
   "metadata": {},
   "outputs": [],
   "source": [
    "model.compile(loss = \"mean_squared_error\", optimizer = keras.optimizers.SGD(lr = 1e-3), metrics = ['mae'])"
   ]
  },
  {
   "cell_type": "code",
   "execution_count": 32,
   "id": "132ccce8",
   "metadata": {
    "scrolled": true
   },
   "outputs": [
    {
     "name": "stdout",
     "output_type": "stream",
     "text": [
      "Epoch 1/20\n",
      "363/363 [==============================] - 1s 3ms/step - loss: 0.4060 - mae: 0.4581 - val_loss: 0.4090 - val_mae: 0.4439\n",
      "Epoch 2/20\n",
      "363/363 [==============================] - 1s 3ms/step - loss: 0.4029 - mae: 0.4550 - val_loss: 0.4422 - val_mae: 0.4480\n",
      "Epoch 3/20\n",
      "363/363 [==============================] - 1s 3ms/step - loss: 0.4000 - mae: 0.4541 - val_loss: 0.4263 - val_mae: 0.4427\n",
      "Epoch 4/20\n",
      "363/363 [==============================] - 1s 2ms/step - loss: 0.3972 - mae: 0.4519 - val_loss: 0.4139 - val_mae: 0.4432\n",
      "Epoch 5/20\n",
      "363/363 [==============================] - 1s 2ms/step - loss: 0.3948 - mae: 0.4503 - val_loss: 0.4007 - val_mae: 0.4395\n",
      "Epoch 6/20\n",
      "363/363 [==============================] - 1s 3ms/step - loss: 0.3923 - mae: 0.4487 - val_loss: 0.4213 - val_mae: 0.4389\n",
      "Epoch 7/20\n",
      "363/363 [==============================] - 1s 3ms/step - loss: 0.3903 - mae: 0.4471 - val_loss: 0.3999 - val_mae: 0.4375\n",
      "Epoch 8/20\n",
      "363/363 [==============================] - 1s 3ms/step - loss: 0.3884 - mae: 0.4460 - val_loss: 0.3846 - val_mae: 0.4339\n",
      "Epoch 9/20\n",
      "363/363 [==============================] - 1s 3ms/step - loss: 0.3865 - mae: 0.4447 - val_loss: 0.4142 - val_mae: 0.4351\n",
      "Epoch 10/20\n",
      "363/363 [==============================] - 1s 2ms/step - loss: 0.3848 - mae: 0.4436 - val_loss: 0.4184 - val_mae: 0.4341\n",
      "Epoch 11/20\n",
      "363/363 [==============================] - 1s 2ms/step - loss: 0.3834 - mae: 0.4421 - val_loss: 0.3749 - val_mae: 0.4310\n",
      "Epoch 12/20\n",
      "363/363 [==============================] - 1s 4ms/step - loss: 0.3815 - mae: 0.4410 - val_loss: 0.4445 - val_mae: 0.4347\n",
      "Epoch 13/20\n",
      "363/363 [==============================] - 1s 2ms/step - loss: 0.3803 - mae: 0.4403 - val_loss: 0.4013 - val_mae: 0.4335\n",
      "Epoch 14/20\n",
      "363/363 [==============================] - 1s 2ms/step - loss: 0.3788 - mae: 0.4390 - val_loss: 0.3770 - val_mae: 0.4309\n",
      "Epoch 15/20\n",
      "363/363 [==============================] - 1s 4ms/step - loss: 0.3775 - mae: 0.4385 - val_loss: 0.4092 - val_mae: 0.4319\n",
      "Epoch 16/20\n",
      "363/363 [==============================] - 1s 3ms/step - loss: 0.3763 - mae: 0.4377 - val_loss: 0.3680 - val_mae: 0.4281\n",
      "Epoch 17/20\n",
      "363/363 [==============================] - 1s 3ms/step - loss: 0.3751 - mae: 0.4367 - val_loss: 0.4234 - val_mae: 0.4306\n",
      "Epoch 18/20\n",
      "363/363 [==============================] - 1s 3ms/step - loss: 0.3744 - mae: 0.4363 - val_loss: 0.4067 - val_mae: 0.4284\n",
      "Epoch 19/20\n",
      "363/363 [==============================] - 1s 3ms/step - loss: 0.3729 - mae: 0.4349 - val_loss: 0.3854 - val_mae: 0.4272\n",
      "Epoch 20/20\n",
      "363/363 [==============================] - 1s 3ms/step - loss: 0.3720 - mae: 0.4345 - val_loss: 0.4478 - val_mae: 0.4314\n"
     ]
    }
   ],
   "source": [
    "model_history = model.fit(X_train, Y_train, epochs = 20, validation_data = (X_valid, Y_valid))"
   ]
  },
  {
   "cell_type": "code",
   "execution_count": 33,
   "id": "8adc2688",
   "metadata": {},
   "outputs": [
    {
     "name": "stdout",
     "output_type": "stream",
     "text": [
      "162/162 [==============================] - 0s 2ms/step - loss: 0.3681 - mae: 0.4335\n"
     ]
    }
   ],
   "source": [
    "mae_test = model.evaluate(X_test, Y_test)"
   ]
  },
  {
   "cell_type": "code",
   "execution_count": 34,
   "id": "5048164e",
   "metadata": {},
   "outputs": [
    {
     "name": "stdout",
     "output_type": "stream",
     "text": [
      "[0.36809736490249634, 0.433473140001297]\n"
     ]
    }
   ],
   "source": [
    "print(mae_test)"
   ]
  },
  {
   "cell_type": "code",
   "execution_count": 35,
   "id": "cff462ed",
   "metadata": {
    "scrolled": true
   },
   "outputs": [
    {
     "data": {
      "text/plain": [
       "{'loss': [0.4059949517250061,\n",
       "  0.40294966101646423,\n",
       "  0.40002724528312683,\n",
       "  0.39718419313430786,\n",
       "  0.39482569694519043,\n",
       "  0.39234572649002075,\n",
       "  0.3902866840362549,\n",
       "  0.3884372413158417,\n",
       "  0.3864903748035431,\n",
       "  0.384766161441803,\n",
       "  0.3833538889884949,\n",
       "  0.38152867555618286,\n",
       "  0.38031384348869324,\n",
       "  0.3788314759731293,\n",
       "  0.3774601221084595,\n",
       "  0.37627825140953064,\n",
       "  0.37505555152893066,\n",
       "  0.3743847608566284,\n",
       "  0.37286028265953064,\n",
       "  0.371969074010849],\n",
       " 'mae': [0.4580843150615692,\n",
       "  0.4550435245037079,\n",
       "  0.4541078209877014,\n",
       "  0.45185327529907227,\n",
       "  0.4502567648887634,\n",
       "  0.4486534595489502,\n",
       "  0.447109580039978,\n",
       "  0.4459647238254547,\n",
       "  0.444699227809906,\n",
       "  0.44359955191612244,\n",
       "  0.4420863389968872,\n",
       "  0.4410480856895447,\n",
       "  0.44025179743766785,\n",
       "  0.4390101730823517,\n",
       "  0.4385252594947815,\n",
       "  0.4377392530441284,\n",
       "  0.4367212653160095,\n",
       "  0.43629589676856995,\n",
       "  0.4349123239517212,\n",
       "  0.4344528019428253],\n",
       " 'val_loss': [0.40900447964668274,\n",
       "  0.44221410155296326,\n",
       "  0.4263044595718384,\n",
       "  0.4138900935649872,\n",
       "  0.4006761908531189,\n",
       "  0.4213358759880066,\n",
       "  0.39993512630462646,\n",
       "  0.3845877945423126,\n",
       "  0.4141814410686493,\n",
       "  0.4183938205242157,\n",
       "  0.37487390637397766,\n",
       "  0.44448110461235046,\n",
       "  0.40134769678115845,\n",
       "  0.37702319025993347,\n",
       "  0.40915119647979736,\n",
       "  0.3679907023906708,\n",
       "  0.42344605922698975,\n",
       "  0.40674591064453125,\n",
       "  0.38539472222328186,\n",
       "  0.44780248403549194],\n",
       " 'val_mae': [0.4438823461532593,\n",
       "  0.44802936911582947,\n",
       "  0.44265255331993103,\n",
       "  0.443216472864151,\n",
       "  0.43952450156211853,\n",
       "  0.4388628304004669,\n",
       "  0.43748578429222107,\n",
       "  0.43390151858329773,\n",
       "  0.43509572744369507,\n",
       "  0.4341352880001068,\n",
       "  0.4309951066970825,\n",
       "  0.4347050189971924,\n",
       "  0.43352210521698,\n",
       "  0.430929571390152,\n",
       "  0.4319259226322174,\n",
       "  0.4280984401702881,\n",
       "  0.4305736720561981,\n",
       "  0.428422749042511,\n",
       "  0.42722925543785095,\n",
       "  0.4313638508319855]}"
      ]
     },
     "execution_count": 35,
     "metadata": {},
     "output_type": "execute_result"
    }
   ],
   "source": [
    "model_history.history"
   ]
  },
  {
   "cell_type": "code",
   "execution_count": 36,
   "id": "14f277c5",
   "metadata": {},
   "outputs": [
    {
     "data": {
      "image/png": "[encoded data removed]",
      "text/plain": [
       "<Figure size 576x360 with 1 Axes>"
      ]
     },
     "metadata": {
      "needs_background": "light"
     },
     "output_type": "display_data"
    }
   ],
   "source": [
    "pd.DataFrame(model_history.history).plot(figsize = (8,5))\n",
    "plt.grid(True)\n",
    "plt.gca().set_ylim(0,1)\n",
    "plt.show()"
   ]
  },
  {
   "cell_type": "markdown",
   "id": "5a994f56",
   "metadata": {},
   "source": [
    "# Saving and Restoring"
   ]
  },
  {
   "cell_type": "code",
   "execution_count": 37,
   "id": "dc6d0045",
   "metadata": {},
   "outputs": [],
   "source": [
    "model.save(\"func_model.h5\")"
   ]
  },
  {
   "cell_type": "code",
   "execution_count": 38,
   "id": "99d13f9b",
   "metadata": {},
   "outputs": [
    {
     "data": {
      "text/plain": [
       "'C:\\\\Users\\\\Rahul Kapoor\\\\OneDrive\\\\Desktop\\\\Udemy\\\\StartTech'"
      ]
     },
     "execution_count": 38,
     "metadata": {},
     "output_type": "execute_result"
    }
   ],
   "source": [
    "%pwd"
   ]
  },
  {
   "cell_type": "code",
   "execution_count": 44,
   "id": "298d2a05",
   "metadata": {},
   "outputs": [],
   "source": [
    "del model"
   ]
  },
  {
   "cell_type": "code",
   "execution_count": 40,
   "id": "df51a5ad",
   "metadata": {},
   "outputs": [],
   "source": [
    "keras.backend.clear_session()"
   ]
  },
  {
   "cell_type": "code",
   "execution_count": 41,
   "id": "a5a2efb9",
   "metadata": {},
   "outputs": [],
   "source": [
    "model = keras.models.load_model(\"func_model.h5\")"
   ]
  },
  {
   "cell_type": "code",
   "execution_count": 42,
   "id": "cd86b428",
   "metadata": {},
   "outputs": [
    {
     "name": "stdout",
     "output_type": "stream",
     "text": [
      "Model: \"functional_1\"\n",
      "__________________________________________________________________________________________________\n",
      "Layer (type)                    Output Shape         Param #     Connected to                     \n",
      "==================================================================================================\n",
      "input_1 (InputLayer)            [(None, 8)]          0                                            \n",
      "__________________________________________________________________________________________________\n",
      "dense (Dense)                   (None, 30)           270         input_1[0][0]                    \n",
      "__________________________________________________________________________________________________\n",
      "dense_1 (Dense)                 (None, 30)           930         dense[0][0]                      \n",
      "__________________________________________________________________________________________________\n",
      "concatenate (Concatenate)       (None, 38)           0           input_1[0][0]                    \n",
      "                                                                 dense_1[0][0]                    \n",
      "__________________________________________________________________________________________________\n",
      "dense_2 (Dense)                 (None, 1)            39          concatenate[0][0]                \n",
      "==================================================================================================\n",
      "Total params: 1,239\n",
      "Trainable params: 1,239\n",
      "Non-trainable params: 0\n",
      "__________________________________________________________________________________________________\n"
     ]
    }
   ],
   "source": [
    "model.summary()"
   ]
  },
  {
   "cell_type": "code",
   "execution_count": 43,
   "id": "0366d621",
   "metadata": {},
   "outputs": [
    {
     "name": "stdout",
     "output_type": "stream",
     "text": [
      "[[0.7934967]\n",
      " [1.7507625]\n",
      " [3.7681181]]\n"
     ]
    }
   ],
   "source": [
    "Y_pred = model.predict(X_new)\n",
    "print(Y_pred)"
   ]
  },
  {
   "cell_type": "markdown",
   "id": "4be50d89",
   "metadata": {},
   "source": [
    "# Using Callbacks using Training\n",
    "<p>callbacks:<br>callbacks can act as a saving checkpoint at each epoch for calling a model</p>"
   ]
  },
  {
   "cell_type": "code",
   "execution_count": 72,
   "id": "de89eeaa",
   "metadata": {},
   "outputs": [],
   "source": [
    "keras.backend.clear_session()\n",
    "np.random.seed(42)\n",
    "tf.random.set_seed(42)"
   ]
  },
  {
   "cell_type": "code",
   "execution_count": 73,
   "id": "8d3f988e",
   "metadata": {},
   "outputs": [],
   "source": [
    "model = keras.models.Sequential([\n",
    "    keras.layers.Dense(30,activation = \"relu\",input_shape= X_train.shape[1:]),\n",
    "    keras.layers.Dense(30,activation = \"relu\"),\n",
    "    keras.layers.Dense(1)\n",
    "])"
   ]
  },
  {
   "cell_type": "code",
   "execution_count": 74,
   "id": "a3df9b1e",
   "metadata": {},
   "outputs": [
    {
     "name": "stdout",
     "output_type": "stream",
     "text": [
      "Model: \"sequential\"\n",
      "_________________________________________________________________\n",
      "Layer (type)                 Output Shape              Param #   \n",
      "=================================================================\n",
      "dense (Dense)                (None, 30)                270       \n",
      "_________________________________________________________________\n",
      "dense_1 (Dense)              (None, 30)                930       \n",
      "_________________________________________________________________\n",
      "dense_2 (Dense)              (None, 1)                 31        \n",
      "=================================================================\n",
      "Total params: 1,231\n",
      "Trainable params: 1,231\n",
      "Non-trainable params: 0\n",
      "_________________________________________________________________\n"
     ]
    }
   ],
   "source": [
    "model.summary()"
   ]
  },
  {
   "cell_type": "code",
   "execution_count": 75,
   "id": "a6f23eea",
   "metadata": {},
   "outputs": [],
   "source": [
    "model.compile(loss = \"mse\", optimizer = keras.optimizers.SGD(lr = 1e-3))"
   ]
  },
  {
   "cell_type": "code",
   "execution_count": 76,
   "id": "7560a2e9",
   "metadata": {},
   "outputs": [],
   "source": [
    "checkpoint_cb = keras.callbacks.ModelCheckpoint(\"Model-{epoch:02d}.h5\")\n",
    "# Since i neaad all the 10 epoch files and not the just last one, {epoch:02d} is written. Thus generating 10 different files for each epoch"
   ]
  },
  {
   "cell_type": "code",
   "execution_count": 77,
   "id": "fb3d8137",
   "metadata": {},
   "outputs": [
    {
     "name": "stdout",
     "output_type": "stream",
     "text": [
      "Epoch 1/10\n",
      "363/363 [==============================] - 1s 1ms/step - loss: 1.8866 - val_loss: 0.7126\n",
      "Epoch 2/10\n",
      "363/363 [==============================] - ETA: 0s - loss: 0.659 - 1s 2ms/step - loss: 0.6577 - val_loss: 0.6880\n",
      "Epoch 3/10\n",
      "363/363 [==============================] - 1s 2ms/step - loss: 0.5934 - val_loss: 0.5803\n",
      "Epoch 4/10\n",
      "363/363 [==============================] - 1s 2ms/step - loss: 0.5557 - val_loss: 0.5166\n",
      "Epoch 5/10\n",
      "363/363 [==============================] - 1s 3ms/step - loss: 0.5272 - val_loss: 0.4895\n",
      "Epoch 6/10\n",
      "363/363 [==============================] - 1s 2ms/step - loss: 0.5033 - val_loss: 0.4951\n",
      "Epoch 7/10\n",
      "363/363 [==============================] - 1s 3ms/step - loss: 0.4854 - val_loss: 0.4861\n",
      "Epoch 8/10\n",
      "363/363 [==============================] - 1s 2ms/step - loss: 0.4709 - val_loss: 0.4554\n",
      "Epoch 9/10\n",
      "363/363 [==============================] - 1s 2ms/step - loss: 0.4578 - val_loss: 0.4413\n",
      "Epoch 10/10\n",
      "363/363 [==============================] - 1s 2ms/step - loss: 0.4474 - val_loss: 0.4379\n"
     ]
    }
   ],
   "source": [
    "history = model.fit(X_train, Y_train, epochs = 10, validation_data = (X_valid,Y_valid), callbacks = [checkpoint_cb])"
   ]
  },
  {
   "cell_type": "code",
   "execution_count": 78,
   "id": "f0351691",
   "metadata": {},
   "outputs": [],
   "source": [
    "#del model\n",
    "keras.backend.clear_session()"
   ]
  },
  {
   "cell_type": "code",
   "execution_count": 79,
   "id": "7d787ce4",
   "metadata": {},
   "outputs": [],
   "source": [
    "model = keras.models.load_model(\"Model-10.h5\")"
   ]
  },
  {
   "cell_type": "code",
   "execution_count": 80,
   "id": "a5755eca",
   "metadata": {},
   "outputs": [
    {
     "name": "stdout",
     "output_type": "stream",
     "text": [
      "162/162 [==============================] - 0s 586us/step - loss: 0.4382\n"
     ]
    }
   ],
   "source": [
    "mse_test = model.evaluate(X_test, Y_test)"
   ]
  },
  {
   "cell_type": "code",
   "execution_count": 81,
   "id": "895bb2cd",
   "metadata": {},
   "outputs": [
    {
     "data": {
      "text/plain": [
       "0.43822863698005676"
      ]
     },
     "execution_count": 81,
     "metadata": {},
     "output_type": "execute_result"
    }
   ],
   "source": [
    "mse_test"
   ]
  },
  {
   "cell_type": "markdown",
   "id": "99b99f41",
   "metadata": {},
   "source": [
    "<h1>Best Model</h1>"
   ]
  },
  {
   "cell_type": "code",
   "execution_count": 82,
   "id": "5cf243a0",
   "metadata": {},
   "outputs": [],
   "source": [
    "del model\n",
    "keras.backend.clear_session()"
   ]
  },
  {
   "cell_type": "code",
   "execution_count": 83,
   "id": "8f1b5a5f",
   "metadata": {},
   "outputs": [],
   "source": [
    "model = keras.models.Sequential([\n",
    "    keras.layers.Dense(30,activation = \"relu\",input_shape= X_train.shape[1:]),\n",
    "    keras.layers.Dense(30,activation = \"relu\"),\n",
    "    keras.layers.Dense(1)\n",
    "])"
   ]
  },
  {
   "cell_type": "code",
   "execution_count": 84,
   "id": "c9be4a37",
   "metadata": {},
   "outputs": [
    {
     "name": "stdout",
     "output_type": "stream",
     "text": [
      "Model: \"sequential\"\n",
      "_________________________________________________________________\n",
      "Layer (type)                 Output Shape              Param #   \n",
      "=================================================================\n",
      "dense (Dense)                (None, 30)                270       \n",
      "_________________________________________________________________\n",
      "dense_1 (Dense)              (None, 30)                930       \n",
      "_________________________________________________________________\n",
      "dense_2 (Dense)              (None, 1)                 31        \n",
      "=================================================================\n",
      "Total params: 1,231\n",
      "Trainable params: 1,231\n",
      "Non-trainable params: 0\n",
      "_________________________________________________________________\n"
     ]
    }
   ],
   "source": [
    "model.summary()"
   ]
  },
  {
   "cell_type": "code",
   "execution_count": 85,
   "id": "24a13393",
   "metadata": {},
   "outputs": [],
   "source": [
    "model.compile(loss = \"mse\", optimizer = keras.optimizers.SGD(lr = 1e-3))"
   ]
  },
  {
   "cell_type": "code",
   "execution_count": 86,
   "id": "6fc3439f",
   "metadata": {},
   "outputs": [],
   "source": [
    "checkpoint_cb = keras.callbacks.ModelCheckpoint(\"Model_best.h5\" , save_best_only=True)"
   ]
  },
  {
   "cell_type": "code",
   "execution_count": 87,
   "id": "a3efbaf4",
   "metadata": {},
   "outputs": [
    {
     "name": "stdout",
     "output_type": "stream",
     "text": [
      "Epoch 1/10\n",
      "363/363 [==============================] - 0s 1ms/step - loss: 1.4581 - val_loss: 0.7883\n",
      "Epoch 2/10\n",
      "363/363 [==============================] - 0s 955us/step - loss: 0.7368 - val_loss: 0.7306\n",
      "Epoch 3/10\n",
      "363/363 [==============================] - 0s 1ms/step - loss: 0.6516 - val_loss: 0.6501\n",
      "Epoch 4/10\n",
      "363/363 [==============================] - 1s 2ms/step - loss: 0.5951 - val_loss: 0.5551\n",
      "Epoch 5/10\n",
      "363/363 [==============================] - 1s 3ms/step - loss: 0.5536 - val_loss: 0.5025\n",
      "Epoch 6/10\n",
      "363/363 [==============================] - 1s 3ms/step - loss: 0.5199 - val_loss: 0.4728\n",
      "Epoch 7/10\n",
      "363/363 [==============================] - 1s 2ms/step - loss: 0.4940 - val_loss: 0.4497\n",
      "Epoch 8/10\n",
      "363/363 [==============================] - 1s 3ms/step - loss: 0.4730 - val_loss: 0.4359\n",
      "Epoch 9/10\n",
      "363/363 [==============================] - 1s 3ms/step - loss: 0.4563 - val_loss: 0.4267\n",
      "Epoch 10/10\n",
      "363/363 [==============================] - 1s 3ms/step - loss: 0.4431 - val_loss: 0.4224\n"
     ]
    }
   ],
   "source": [
    "history = model.fit(X_train, Y_train, epochs = 10, validation_data = (X_valid,Y_valid), callbacks = [checkpoint_cb])"
   ]
  },
  {
   "cell_type": "code",
   "execution_count": 88,
   "id": "7ec77637",
   "metadata": {},
   "outputs": [],
   "source": [
    "model = keras.models.load_model(\"Model_best.h5\")"
   ]
  },
  {
   "cell_type": "code",
   "execution_count": 89,
   "id": "67fca0d8",
   "metadata": {},
   "outputs": [
    {
     "name": "stdout",
     "output_type": "stream",
     "text": [
      "162/162 [==============================] - 0s 622us/step - loss: 0.4366\n"
     ]
    }
   ],
   "source": [
    "mse_test = model.evaluate(X_test, Y_test)"
   ]
  },
  {
   "cell_type": "code",
   "execution_count": 90,
   "id": "a36b4a38",
   "metadata": {},
   "outputs": [
    {
     "data": {
      "text/plain": [
       "0.43662846088409424"
      ]
     },
     "execution_count": 90,
     "metadata": {},
     "output_type": "execute_result"
    }
   ],
   "source": [
    "mse_test"
   ]
  },
  {
   "cell_type": "markdown",
   "id": "95477109",
   "metadata": {},
   "source": [
    "# Early Stopping"
   ]
  },
  {
   "cell_type": "code",
   "execution_count": 98,
   "id": "8afaab2b",
   "metadata": {},
   "outputs": [],
   "source": [
    "del model\n",
    "keras.backend.clear_session()"
   ]
  },
  {
   "cell_type": "code",
   "execution_count": 99,
   "id": "bbee4785",
   "metadata": {},
   "outputs": [],
   "source": [
    "model = keras.models.Sequential([\n",
    "    keras.layers.Dense(30,activation = \"relu\",input_shape= X_train.shape[1:]),\n",
    "    keras.layers.Dense(30,activation = \"relu\"),\n",
    "    keras.layers.Dense(1)\n",
    "])"
   ]
  },
  {
   "cell_type": "code",
   "execution_count": 100,
   "id": "420c5c1d",
   "metadata": {},
   "outputs": [
    {
     "name": "stdout",
     "output_type": "stream",
     "text": [
      "Model: \"sequential\"\n",
      "_________________________________________________________________\n",
      "Layer (type)                 Output Shape              Param #   \n",
      "=================================================================\n",
      "dense (Dense)                (None, 30)                270       \n",
      "_________________________________________________________________\n",
      "dense_1 (Dense)              (None, 30)                930       \n",
      "_________________________________________________________________\n",
      "dense_2 (Dense)              (None, 1)                 31        \n",
      "=================================================================\n",
      "Total params: 1,231\n",
      "Trainable params: 1,231\n",
      "Non-trainable params: 0\n",
      "_________________________________________________________________\n"
     ]
    }
   ],
   "source": [
    "model.summary()"
   ]
  },
  {
   "cell_type": "code",
   "execution_count": 101,
   "id": "22392cdb",
   "metadata": {},
   "outputs": [],
   "source": [
    "model.compile(loss = \"mse\", optimizer = keras.optimizers.SGD(lr = 1e-3))"
   ]
  },
  {
   "cell_type": "code",
   "execution_count": 102,
   "id": "c04e3ce4",
   "metadata": {},
   "outputs": [],
   "source": [
    "checkpoint_cb = keras.callbacks.ModelCheckpoint(\"Model_early.h5\" , save_best_only=True)"
   ]
  },
  {
   "cell_type": "code",
   "execution_count": 103,
   "id": "4dce28dd",
   "metadata": {},
   "outputs": [],
   "source": [
    "early_stopping_cb = keras.callbacks.EarlyStopping(patience=10, restore_best_weights=True)\n",
    "# patience : Number of epochs with no improvement after which training will be stopped"
   ]
  },
  {
   "cell_type": "code",
   "execution_count": 104,
   "id": "57f0da97",
   "metadata": {},
   "outputs": [
    {
     "name": "stdout",
     "output_type": "stream",
     "text": [
      "Epoch 1/200\n",
      "  1/363 [..............................] - ETA: 0s - loss: 6.8014WARNING:tensorflow:Callbacks method `on_train_batch_begin` is slow compared to the batch time (batch time: 0.0000s vs `on_train_batch_begin` time: 0.0010s). Check your callbacks.\n",
      "363/363 [==============================] - 1s 2ms/step - loss: 1.5112 - val_loss: 0.8699\n",
      "Epoch 2/200\n",
      "363/363 [==============================] - ETA: 0s - loss: 0.670 - 0s 1ms/step - loss: 0.6710 - val_loss: 0.6277\n",
      "Epoch 3/200\n",
      "363/363 [==============================] - 1s 2ms/step - loss: 0.6166 - val_loss: 0.5812\n",
      "Epoch 4/200\n",
      "363/363 [==============================] - 1s 3ms/step - loss: 0.5772 - val_loss: 0.5454\n",
      "Epoch 5/200\n",
      "363/363 [==============================] - 1s 3ms/step - loss: 0.5462 - val_loss: 0.5101\n",
      "Epoch 6/200\n",
      "363/363 [==============================] - 1s 2ms/step - loss: 0.5188 - val_loss: 0.4870\n",
      "Epoch 7/200\n",
      "363/363 [==============================] - 1s 3ms/step - loss: 0.4975 - val_loss: 0.4705\n",
      "Epoch 8/200\n",
      "363/363 [==============================] - 1s 2ms/step - loss: 0.4795 - val_loss: 0.4448\n",
      "Epoch 9/200\n",
      "363/363 [==============================] - 1s 3ms/step - loss: 0.4640 - val_loss: 0.4298\n",
      "Epoch 10/200\n",
      "363/363 [==============================] - 1s 2ms/step - loss: 0.4511 - val_loss: 0.4183\n",
      "Epoch 11/200\n",
      "363/363 [==============================] - 1s 2ms/step - loss: 0.4410 - val_loss: 0.4106\n",
      "Epoch 12/200\n",
      "363/363 [==============================] - 1s 2ms/step - loss: 0.4322 - val_loss: 0.4022\n",
      "Epoch 13/200\n",
      "363/363 [==============================] - 1s 2ms/step - loss: 0.4249 - val_loss: 0.4011\n",
      "Epoch 14/200\n",
      "363/363 [==============================] - 1s 3ms/step - loss: 0.4188 - val_loss: 0.3957\n",
      "Epoch 15/200\n",
      "363/363 [==============================] - 1s 2ms/step - loss: 0.4134 - val_loss: 0.3968\n",
      "Epoch 16/200\n",
      "363/363 [==============================] - 1s 3ms/step - loss: 0.4087 - val_loss: 0.3895\n",
      "Epoch 17/200\n",
      "363/363 [==============================] - 1s 3ms/step - loss: 0.4048 - val_loss: 0.3975\n",
      "Epoch 18/200\n",
      "363/363 [==============================] - 1s 3ms/step - loss: 0.4011 - val_loss: 0.3939\n",
      "Epoch 19/200\n",
      "363/363 [==============================] - 1s 3ms/step - loss: 0.3974 - val_loss: 0.3896\n",
      "Epoch 20/200\n",
      "363/363 [==============================] - 1s 2ms/step - loss: 0.3948 - val_loss: 0.4171\n",
      "Epoch 21/200\n",
      "363/363 [==============================] - 1s 2ms/step - loss: 0.3919 - val_loss: 0.4035\n",
      "Epoch 22/200\n",
      "363/363 [==============================] - 1s 2ms/step - loss: 0.3893 - val_loss: 0.4101\n",
      "Epoch 23/200\n",
      "363/363 [==============================] - 1s 3ms/step - loss: 0.3869 - val_loss: 0.3731\n",
      "Epoch 24/200\n",
      "363/363 [==============================] - 1s 3ms/step - loss: 0.3843 - val_loss: 0.3889\n",
      "Epoch 25/200\n",
      "363/363 [==============================] - 1s 2ms/step - loss: 0.3821 - val_loss: 0.3949\n",
      "Epoch 26/200\n",
      "363/363 [==============================] - 1s 3ms/step - loss: 0.3802 - val_loss: 0.4011\n",
      "Epoch 27/200\n",
      "363/363 [==============================] - 1s 2ms/step - loss: 0.3785 - val_loss: 0.3704\n",
      "Epoch 28/200\n",
      "363/363 [==============================] - 1s 3ms/step - loss: 0.3766 - val_loss: 0.3964\n",
      "Epoch 29/200\n",
      "363/363 [==============================] - 1s 2ms/step - loss: 0.3751 - val_loss: 0.3879\n",
      "Epoch 30/200\n",
      "363/363 [==============================] - 1s 2ms/step - loss: 0.3733 - val_loss: 0.4106\n",
      "Epoch 31/200\n",
      "363/363 [==============================] - 1s 3ms/step - loss: 0.3717 - val_loss: 0.3989\n",
      "Epoch 32/200\n",
      "363/363 [==============================] - 1s 3ms/step - loss: 0.3703 - val_loss: 0.4265\n",
      "Epoch 33/200\n",
      "363/363 [==============================] - 1s 3ms/step - loss: 0.3696 - val_loss: 0.3838\n",
      "Epoch 34/200\n",
      "363/363 [==============================] - 1s 3ms/step - loss: 0.3680 - val_loss: 0.3753\n",
      "Epoch 35/200\n",
      "363/363 [==============================] - 1s 3ms/step - loss: 0.3668 - val_loss: 0.4233\n",
      "Epoch 36/200\n",
      "363/363 [==============================] - 1s 3ms/step - loss: 0.3660 - val_loss: 0.3648\n",
      "Epoch 37/200\n",
      "363/363 [==============================] - 1s 2ms/step - loss: 0.3647 - val_loss: 0.3880\n",
      "Epoch 38/200\n",
      "363/363 [==============================] - 1s 3ms/step - loss: 0.3637 - val_loss: 0.3713\n",
      "Epoch 39/200\n",
      "363/363 [==============================] - 1s 2ms/step - loss: 0.3628 - val_loss: 0.3660\n",
      "Epoch 40/200\n",
      "363/363 [==============================] - 1s 3ms/step - loss: 0.3618 - val_loss: 0.3750\n",
      "Epoch 41/200\n",
      "363/363 [==============================] - 1s 2ms/step - loss: 0.3609 - val_loss: 0.3864\n",
      "Epoch 42/200\n",
      "363/363 [==============================] - 1s 3ms/step - loss: 0.3601 - val_loss: 0.4006\n",
      "Epoch 43/200\n",
      "363/363 [==============================] - 1s 3ms/step - loss: 0.3589 - val_loss: 0.4033\n",
      "Epoch 44/200\n",
      "363/363 [==============================] - 1s 3ms/step - loss: 0.3582 - val_loss: 0.4173\n",
      "Epoch 45/200\n",
      "363/363 [==============================] - 1s 3ms/step - loss: 0.3577 - val_loss: 0.3664\n",
      "Epoch 46/200\n",
      "363/363 [==============================] - 1s 3ms/step - loss: 0.3565 - val_loss: 0.3734\n"
     ]
    }
   ],
   "source": [
    "history = model.fit(X_train, Y_train, epochs = 200, validation_data = (X_valid,Y_valid), callbacks = [checkpoint_cb, early_stopping_cb])"
   ]
  },
  {
   "cell_type": "code",
   "execution_count": 105,
   "id": "4ed9e9fe",
   "metadata": {},
   "outputs": [],
   "source": [
    "model = keras.models.load_model(\"Model_early.h5\")"
   ]
  },
  {
   "cell_type": "code",
   "execution_count": 106,
   "id": "0eb1beed",
   "metadata": {},
   "outputs": [
    {
     "name": "stdout",
     "output_type": "stream",
     "text": [
      "162/162 [==============================] - 0s 685us/step - loss: 0.3678\n"
     ]
    }
   ],
   "source": [
    "mse_test = model.evaluate(X_test, Y_test)"
   ]
  },
  {
   "cell_type": "code",
   "execution_count": null,
   "id": "5521656b",
   "metadata": {},
   "outputs": [],
   "source": []
  }
 ],
 "metadata": {
  "kernelspec": {
   "display_name": "Python 3",
   "language": "python",
   "name": "python3"
  },
  "language_info": {
   "codemirror_mode": {
    "name": "ipython",
    "version": 3
   },
   "file_extension": ".py",
   "mimetype": "text/x-python",
   "name": "python",
   "nbconvert_exporter": "python",
   "pygments_lexer": "ipython3",
   "version": "3.8.8"
  }
 },
 "nbformat": 4,
 "nbformat_minor": 5
}
